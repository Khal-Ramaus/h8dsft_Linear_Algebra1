{
  "nbformat": 4,
  "nbformat_minor": 0,
  "metadata": {
    "colab": {
      "name": "h8dsft_Linear_Algebra1.ipynb",
      "provenance": [],
      "collapsed_sections": [],
      "authorship_tag": "ABX9TyP1T2p4JD9QlTTPRQd9o9v3",
      "include_colab_link": true
    },
    "kernelspec": {
      "name": "python3",
      "display_name": "Python 3"
    },
    "language_info": {
      "name": "python"
    }
  },
  "cells": [
    {
      "cell_type": "markdown",
      "metadata": {
        "id": "view-in-github",
        "colab_type": "text"
      },
      "source": [
        "<a href=\"https://colab.research.google.com/github/Khal-Ramaus/h8dsft_Linear_Algebra1/blob/master/h8dsft_Linear_Algebra1.ipynb\" target=\"_parent\"><img src=\"https://colab.research.google.com/assets/colab-badge.svg\" alt=\"Open In Colab\"/></a>"
      ]
    },
    {
      "cell_type": "markdown",
      "metadata": {
        "id": "1JTSM0mDbu6e"
      },
      "source": [
        "**Non Graded Challenge 4**\n",
        "\n",
        "Linear Algebra"
      ]
    },
    {
      "cell_type": "markdown",
      "metadata": {
        "id": "Lc5wbV1McCFm"
      },
      "source": [
        "**Melakukan import library yang akan dipakai**"
      ]
    },
    {
      "cell_type": "code",
      "metadata": {
        "id": "Ju31i1GYHvcn"
      },
      "source": [
        "import numpy as np\n",
        "%matplotlib inline\n",
        "import matplotlib.pyplot as plt"
      ],
      "execution_count": 17,
      "outputs": []
    },
    {
      "cell_type": "markdown",
      "metadata": {
        "id": "RSpZESt-cJFa"
      },
      "source": [
        "# Membuat vector pada python"
      ]
    },
    {
      "cell_type": "code",
      "metadata": {
        "colab": {
          "base_uri": "https://localhost:8080/"
        },
        "id": "HzKdAJFmjbPU",
        "outputId": "df91fbf9-ff12-4dc0-affd-2271c46ef7fb"
      },
      "source": [
        "vector = np.array([17, 22, 19])\n",
        "print(vector)"
      ],
      "execution_count": 4,
      "outputs": [
        {
          "output_type": "stream",
          "text": [
            "[17 22 19]\n"
          ],
          "name": "stdout"
        }
      ]
    },
    {
      "cell_type": "markdown",
      "metadata": {
        "id": "MqHble6AcKFr"
      },
      "source": [
        "# Membuat matriks pada python"
      ]
    },
    {
      "cell_type": "code",
      "metadata": {
        "colab": {
          "base_uri": "https://localhost:8080/"
        },
        "id": "vIGwyPSzIWZx",
        "outputId": "d0a62fa4-f677-4ca6-9c0f-de59e9af7065"
      },
      "source": [
        "matrix = np.array([\n",
        "                   [23, 50, 19],\n",
        "                   [7, 12, 109],\n",
        "                   [57, 67, 98]\n",
        "])\n",
        "print(matrix)"
      ],
      "execution_count": 5,
      "outputs": [
        {
          "output_type": "stream",
          "text": [
            "[[ 23  50  19]\n",
            " [  7  12 109]\n",
            " [ 57  67  98]]\n"
          ],
          "name": "stdout"
        }
      ]
    },
    {
      "cell_type": "markdown",
      "metadata": {
        "id": "4mXaR9a7cLOO"
      },
      "source": [
        "# Membuat tensor pada python"
      ]
    },
    {
      "cell_type": "code",
      "metadata": {
        "colab": {
          "base_uri": "https://localhost:8080/"
        },
        "id": "mwdVoX5jK_x8",
        "outputId": "a3e171ec-6488-4fc9-aed6-aac0068bd5c0"
      },
      "source": [
        "tensor = np.array([[[23, 50],\n",
        "           [7, 12]],\n",
        "          \n",
        "          [[57, 67],\n",
        "           [99, 43]],\n",
        "          \n",
        "          [[75, 21],\n",
        "           [57, 12]],\n",
        "          \n",
        "          [[87, 26],\n",
        "           [18, 84]]]\n",
        ")\n",
        "print(tensor)"
      ],
      "execution_count": 14,
      "outputs": [
        {
          "output_type": "stream",
          "text": [
            "[[[23 50]\n",
            "  [ 7 12]]\n",
            "\n",
            " [[57 67]\n",
            "  [99 43]]\n",
            "\n",
            " [[75 21]\n",
            "  [57 12]]\n",
            "\n",
            " [[87 26]\n",
            "  [18 84]]]\n"
          ],
          "name": "stdout"
        }
      ]
    },
    {
      "cell_type": "markdown",
      "metadata": {
        "id": "4iKonUCWcjly"
      },
      "source": [
        "# Melakukan perkalian pada matriks"
      ]
    },
    {
      "cell_type": "markdown",
      "metadata": {
        "id": "F0Uq8uyYdH3s"
      },
      "source": [
        "Membuat matriks pertama:"
      ]
    },
    {
      "cell_type": "code",
      "metadata": {
        "colab": {
          "base_uri": "https://localhost:8080/"
        },
        "id": "I9rL_Ga-K0xV",
        "outputId": "bc4d2e72-c492-40a3-f8a3-a062f0d5a02b"
      },
      "source": [
        "matrix1 = np.array([\n",
        "                    [23, 50, 19],\n",
        "                    [7, 12, 109],\n",
        "                    [57, 67, 98]\n",
        "])\n",
        "print(matrix1)"
      ],
      "execution_count": 10,
      "outputs": [
        {
          "output_type": "stream",
          "text": [
            "[[ 23  50  19]\n",
            " [  7  12 109]\n",
            " [ 57  67  98]]\n"
          ],
          "name": "stdout"
        }
      ]
    },
    {
      "cell_type": "markdown",
      "metadata": {
        "id": "jlvA1tpCdOa4"
      },
      "source": [
        "Membuat matriks kedua:"
      ]
    },
    {
      "cell_type": "code",
      "metadata": {
        "colab": {
          "base_uri": "https://localhost:8080/"
        },
        "id": "IIZGZwmbLnLr",
        "outputId": "d9011b0f-9e8b-4be5-d37f-6f6804112d2a"
      },
      "source": [
        "matrix2 = np.array([\n",
        "                    \n",
        "                    [17],\n",
        "                    [22],\n",
        "                    [19]\n",
        "])\n",
        "print(matrix2)"
      ],
      "execution_count": 9,
      "outputs": [
        {
          "output_type": "stream",
          "text": [
            "[[17]\n",
            " [22]\n",
            " [19]]\n"
          ],
          "name": "stdout"
        }
      ]
    },
    {
      "cell_type": "markdown",
      "metadata": {
        "id": "drsx6QkDdRyM"
      },
      "source": [
        "Melakukan perkalian terhadap 2 matriks:"
      ]
    },
    {
      "cell_type": "code",
      "metadata": {
        "colab": {
          "base_uri": "https://localhost:8080/"
        },
        "id": "5lBvNGsaL5jy",
        "outputId": "4490b2c9-b509-42a5-c7c3-3a3e248f7059"
      },
      "source": [
        "A = matrix1.dot(matrix2)\n",
        "print(A)"
      ],
      "execution_count": 12,
      "outputs": [
        {
          "output_type": "stream",
          "text": [
            "[[1852]\n",
            " [2454]\n",
            " [4305]]\n"
          ],
          "name": "stdout"
        }
      ]
    },
    {
      "cell_type": "markdown",
      "metadata": {
        "id": "tNyNjTr_c2PP"
      },
      "source": [
        "# Melakukan Transpos matriks"
      ]
    },
    {
      "cell_type": "markdown",
      "metadata": {
        "id": "n8NCxhpOdY1W"
      },
      "source": [
        "Membuat matriks:"
      ]
    },
    {
      "cell_type": "code",
      "metadata": {
        "colab": {
          "base_uri": "https://localhost:8080/"
        },
        "id": "kX38UsWGMUuw",
        "outputId": "f37144ef-345a-4f17-83c4-f8b3417a8fb4"
      },
      "source": [
        "matrixT = np.array([[23, 50, 19],\n",
        "                    [7, 12, 109],\n",
        "                    [57, 67, 98]\n",
        "                    \n",
        "])\n",
        "print(matrixT)"
      ],
      "execution_count": 15,
      "outputs": [
        {
          "output_type": "stream",
          "text": [
            "[[ 23  50  19]\n",
            " [  7  12 109]\n",
            " [ 57  67  98]]\n"
          ],
          "name": "stdout"
        }
      ]
    },
    {
      "cell_type": "markdown",
      "metadata": {
        "id": "LvFEHNf_daxd"
      },
      "source": [
        "Melakukan transpos matriks"
      ]
    },
    {
      "cell_type": "code",
      "metadata": {
        "colab": {
          "base_uri": "https://localhost:8080/"
        },
        "id": "3NOgOL-RYthJ",
        "outputId": "889af617-5e73-49ef-a2e5-16100e69899c"
      },
      "source": [
        "matrix.T"
      ],
      "execution_count": 16,
      "outputs": [
        {
          "output_type": "execute_result",
          "data": {
            "text/plain": [
              "array([[ 23,   7,  57],\n",
              "       [ 50,  12,  67],\n",
              "       [ 19, 109,  98]])"
            ]
          },
          "metadata": {
            "tags": []
          },
          "execution_count": 16
        }
      ]
    },
    {
      "cell_type": "markdown",
      "metadata": {
        "id": "nR0GyHBxc825"
      },
      "source": [
        "# Membuat plot pada vektor"
      ]
    },
    {
      "cell_type": "markdown",
      "metadata": {
        "id": "Wqt99_GrdhFZ"
      },
      "source": [
        "Membuat 2 vektor yaitu vektor u dan vektor v"
      ]
    },
    {
      "cell_type": "code",
      "metadata": {
        "id": "A7DTMIDXY9A1"
      },
      "source": [
        "u = np.array([2, 5])\n",
        "v = np.array([3, 1])"
      ],
      "execution_count": 21,
      "outputs": []
    },
    {
      "cell_type": "markdown",
      "metadata": {
        "id": "luOsFdgKdmUH"
      },
      "source": [
        "Menapilkan grapik untuk ploting vektor"
      ]
    },
    {
      "cell_type": "code",
      "metadata": {
        "colab": {
          "base_uri": "https://localhost:8080/",
          "height": 269
        },
        "id": "vdFqJ-u1ZhQn",
        "outputId": "9ea53ff3-efc0-40c4-f90f-373629e82477"
      },
      "source": [
        "x_koor, y_koor = zip(u, v) \n",
        "plt.scatter(x_koor, y_koor,color=[\"g\",\"y\"])\n",
        "plt.axis([0, 6, 0, 6])\n",
        "plt.grid()\n",
        "plt.show()"
      ],
      "execution_count": 25,
      "outputs": [
        {
          "output_type": "display_data",
          "data": {
            "image/png": "[encoded data removed]",
            "text/plain": [
              "<Figure size 432x288 with 1 Axes>"
            ]
          },
          "metadata": {
            "tags": [],
            "needs_background": "light"
          }
        }
      ]
    },
    {
      "cell_type": "markdown",
      "metadata": {
        "id": "WIIywstJd5Ix"
      },
      "source": [
        "Untuk menggambarkan arah panah pada plot, menggunakan sebuah function:"
      ]
    },
    {
      "cell_type": "code",
      "metadata": {
        "id": "B1uitn20anTD"
      },
      "source": [
        "def plot_v2d(vector2d, origin=[0, 0], **options):\n",
        "  return plt.arrow(origin[0], origin[1], vector2d[0], vector2d[1],\n",
        "                   head_width=0.2, head_length=0.3, length_includes_head=True,\n",
        "                   **options)"
      ],
      "execution_count": 26,
      "outputs": []
    },
    {
      "cell_type": "code",
      "metadata": {
        "colab": {
          "base_uri": "https://localhost:8080/",
          "height": 269
        },
        "id": "8D-VtQrPbN07",
        "outputId": "30f342e8-81fa-4e83-fe23-b57d3bba0012"
      },
      "source": [
        "plot_v2d(u, color=\"y\")\n",
        "plot_v2d(v, color=\"g\")\n",
        "plt.axis([0, 6, 0, 6])\n",
        "plt.grid()\n",
        "plt.show()"
      ],
      "execution_count": 27,
      "outputs": [
        {
          "output_type": "display_data",
          "data": {
            "image/png": "[encoded data removed]",
            "text/plain": [
              "<Figure size 432x288 with 1 Axes>"
            ]
          },
          "metadata": {
            "tags": [],
            "needs_background": "light"
          }
        }
      ]
    }
  ]
}